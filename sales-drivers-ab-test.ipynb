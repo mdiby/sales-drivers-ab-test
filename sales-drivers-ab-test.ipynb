{
 "cells": [
  {
   "cell_type": "markdown",
   "metadata": {},
   "source": [
    "05 Oct 2017"
   ]
  },
  {
   "cell_type": "markdown",
   "metadata": {},
   "source": [
    "# Using Hypothesis Testing to Understand Drivers of Sales\n",
    "\n",
    "We were contracted by an e-commerce marketplace to help them understand what factors drive sales. They collected data on 10,0000 purchases recently made, including how much time was spent on the page, how many reviews the product had, and the product rating. They wanted to understand what factors in their data are driving sales. \n",
    "\n",
    "### The data\n",
    "\n",
    "The company has collected data on 10,000 purchases. They know:\n",
    "* The ammount of time in seconds an individual user spent on that page\n",
    "* The number of product reviews\n",
    "* The product rating\n",
    "* Whether the user purchased the product or not.\n",
    "\n",
    "### Your task\n",
    "\n",
    "My task was to use hypothesis testing to test whether the mean time spent on the page, the mean number of reviews, and the mean product rating are different in populations that purchased and didn't purchase. \n",
    "\n",
    "The goal of this work was to make a recommendation for how to identify products that will sell better as well as what factors of a product contribute as a sales driver."
   ]
  },
  {
   "cell_type": "code",
   "execution_count": null,
   "metadata": {
    "collapsed": true
   },
   "outputs": [],
   "source": [
    "# Import packages\n",
    "import pandas as pd\n",
    "import numpy as np\n",
    "from scipy import stats\n",
    "\n",
    "\n",
    "import matplotlib.pyplot as plt\n",
    "%matplotlib inline\n",
    "plt.style.use('fivethirtyeight')"
   ]
  },
  {
   "cell_type": "code",
   "execution_count": null,
   "metadata": {},
   "outputs": [],
   "source": [
    "# Create Pandas dataframe from csv file\n",
    "results_df = pd.read_csv('./_data/sales_table.csv')"
   ]
  },
  {
   "cell_type": "code",
   "execution_count": null,
   "metadata": {},
   "outputs": [],
   "source": [
    "# Display data info\n",
    "print(results_df.info())\n",
    "print('\\ndf shape:', results_df.shape)\n",
    "print('\\n', results_df.describe())\n",
    "results_df.head()"
   ]
  },
  {
   "cell_type": "markdown",
   "metadata": {},
   "source": [
    "You can see that there are 10,000 rows of data and 4 columns, as well as some statistical information for each column"
   ]
  },
  {
   "cell_type": "code",
   "execution_count": null,
   "metadata": {
    "scrolled": true
   },
   "outputs": [],
   "source": [
    "# Create a boolean mask on your results_df['purchase] column that's True if the customer bought and False if they didn't.\n",
    "purchase_mask = results_df['purchase'] == 'yes'\n",
    "purchase_mask.head()"
   ]
  },
  {
   "cell_type": "code",
   "execution_count": null,
   "metadata": {},
   "outputs": [],
   "source": [
    "# And tehre's this way.\n",
    "results_df[results_df['purchase'] == 'yes'].head()"
   ]
  },
  {
   "cell_type": "code",
   "execution_count": null,
   "metadata": {},
   "outputs": [],
   "source": [
    "# Create a boolean mask on results_df['purchase] column that's False if the customer bought and True if they didn't.\n",
    "no_purchase_mask = results_df['purchase'] == 'no'\n",
    "no_purchase_mask.head()"
   ]
  },
  {
   "cell_type": "code",
   "execution_count": null,
   "metadata": {},
   "outputs": [],
   "source": [
    "# Use the masks to create new DataFrames\n",
    "purchase_df = results_df[purchase_mask]\n",
    "no_purchase_df = results_df[no_purchase_mask]\n",
    "display(purchase_df.head())\n",
    "display(no_purchase_df.head())"
   ]
  },
  {
   "cell_type": "code",
   "execution_count": null,
   "metadata": {},
   "outputs": [],
   "source": [
    "# Use the masks to create your new DataFrames\n",
    "# Another way to do it\n",
    "\n",
    "purchase_df = results_df[results_df['purchase'] == 'yes']\n",
    "no_purchase_df = results_df[results_df['purchase'] == 'no']\n",
    "display(purchase_df.head())\n",
    "display(no_purchase_df.head())"
   ]
  },
  {
   "cell_type": "markdown",
   "metadata": {},
   "source": [
    "Two dataframes have now been created. One dataframe is for those who purchased, and one dataframe is for those who did not.\n",
    "\n",
    "# Create Visualizataions:"
   ]
  },
  {
   "cell_type": "code",
   "execution_count": null,
   "metadata": {
    "scrolled": false
   },
   "outputs": [],
   "source": [
    "# Plot both dataframes on top of eachother\n",
    "\n",
    "# Dictionary to convert geeky dataframe column names to fancy AF strings \n",
    "col_name_dict = {'time_on_page_sec': 'Time on Page (seconds)',\n",
    "                 'num_product_reviews': 'Number of Product Reviews',\n",
    "                 'product_rating': 'The Product Rating'}\n",
    "\n",
    "fig = plt.figure(figsize=(10,30))\n",
    "for i, col in enumerate(results_df.columns[:3]):\n",
    "    fig.add_subplot(5,1,1+i)\n",
    "    # Add a histogram for the column in the loop from the purchase dataframe.\n",
    "    plt.hist(purchase_df[col], alpha = 0.5, label=\"User Purchased\", bins=20)\n",
    "    plt.legend(prop={'size': 10})\n",
    "    \n",
    "    # Add a histogram for the column in the loop from the no purchase dataframe.\n",
    "    plt.hist(no_purchase_df[col], alpha = 0.5, label=\"User Did Not Purchase\",bins=20)\n",
    "    plt.legend(prop={'size': 10})\n",
    "    \n",
    "    # Plot mean line.\n",
    "    plt.axvline(purchase_df[col].mean(), color='b', linestyle='dashed', linewidth=2, ls='dotted')\n",
    "    plt.axvline(no_purchase_df[col].mean(), color='r', linestyle='dashed', linewidth=2, ls='dotted')\n",
    "    \n",
    "    plt.ylabel('Number of Purchases')\n",
    "    plt.xlabel(col_name_dict[col])\n",
    "    \n",
    "    plt.savefig('./_assets/01.png', bbox_inches='tight')"
   ]
  },
  {
   "cell_type": "markdown",
   "metadata": {},
   "source": [
    "The distributions of each numerical column for the two different datasets show two observations:\n",
    "* the means of the time spent on each page appear the same for purchases and no-purchases.\n",
    "* For number of reviews and product rating, the purchase mean seems higher than the no-purchase mean. Note that the means for each figure are the dotted red/blue lines.\n",
    "\n",
    "---\n",
    "\n",
    "## How many purchases? How many non-purchases?\n"
   ]
  },
  {
   "cell_type": "code",
   "execution_count": null,
   "metadata": {
    "collapsed": true
   },
   "outputs": [],
   "source": [
    "# Function to find number of purchases in case I need it later\n",
    "def num_purchases(df):\n",
    "    return len(df)"
   ]
  },
  {
   "cell_type": "code",
   "execution_count": null,
   "metadata": {
    "collapsed": true
   },
   "outputs": [],
   "source": [
    "# Same as above as one line lambda function\n",
    "num_purchases = lambda df: len(df)"
   ]
  },
  {
   "cell_type": "code",
   "execution_count": null,
   "metadata": {},
   "outputs": [],
   "source": [
    "# Print purchase numbers for each dataframe\n",
    "print('The number of purchases was', num_purchases(purchase_df))\n",
    "print('The number of non_purchases was', num_purchases(no_purchase_df))"
   ]
  },
  {
   "cell_type": "markdown",
   "metadata": {},
   "source": [
    "# Hypothesis Testing"
   ]
  },
  {
   "cell_type": "code",
   "execution_count": null,
   "metadata": {
    "collapsed": true
   },
   "outputs": [],
   "source": [
    "# Make function to give results of hypothesis testing by passing the p-value\n",
    "def hyp_test(pval):\n",
    "    if pval < 0.05:\n",
    "        return 'The p-value is less than 0.05. We should reject our null hypothesis.' \n",
    "    else:\n",
    "        return 'The p-value is not less than 0.05. We should NOT reject our null hypothesis.'"
   ]
  },
  {
   "cell_type": "markdown",
   "metadata": {},
   "source": [
    "## `time_on_page_sec`"
   ]
  },
  {
   "cell_type": "markdown",
   "metadata": {},
   "source": [
    "> **Null Hypothesis ($H_0$):** The mean difference if time spent on a page between purchases and non-purchases is zero.\n",
    "\n",
    "> **Alternative Hypothesis ($H_1$):** The mean difference if time spent on a page between purchaes and non-purchases is not zero."
   ]
  },
  {
   "cell_type": "code",
   "execution_count": null,
   "metadata": {},
   "outputs": [],
   "source": [
    "# Obbtain pvalue.\n",
    "pvalue = stats.ttest_ind(purchase_df['time_on_page_sec'],no_purchase_df['time_on_page_sec']).pvalue\n",
    "hyp_test(pvalue)"
   ]
  },
  {
   "cell_type": "markdown",
   "metadata": {},
   "source": [
    "### Interpretation of the p-value:\n",
    "\n",
    "The amount of time a user of the web page is not statistically significant as to whether or not there will be a purchase.\n",
    "\n",
    "---"
   ]
  },
  {
   "cell_type": "markdown",
   "metadata": {},
   "source": [
    "## `num_product_reviews`"
   ]
  },
  {
   "cell_type": "markdown",
   "metadata": {},
   "source": [
    "> **Null Hypothesis ($H_0$):** The mean difference in whether or not a product review is present between purchases and non-purchases is zero.\n",
    "\n",
    "> **Alternative Hypothesis ($H_1$):** The mean difference in whether or not a product review is present between purchases and non-purchases is *not* zero.\n"
   ]
  },
  {
   "cell_type": "code",
   "execution_count": null,
   "metadata": {},
   "outputs": [],
   "source": [
    "# Obtain pvalue.\n",
    "pvalue = stats.ttest_ind(purchase_df['num_product_reviews'],no_purchase_df['num_product_reviews']).pvalue\n",
    "hyp_test(pvalue)"
   ]
  },
  {
   "cell_type": "markdown",
   "metadata": {},
   "source": [
    "### Interpretation of the p-value?\n",
    "\n",
    "Whether or not a product has a product review is statistically significant as to whether or not there will be a purchase.\n",
    "\n",
    "---"
   ]
  },
  {
   "cell_type": "markdown",
   "metadata": {},
   "source": [
    "## `product_rating`"
   ]
  },
  {
   "cell_type": "markdown",
   "metadata": {},
   "source": [
    "> **Null Hypothesis ($H_0$):** The mean difference in wehther or not a product rating is present between purchases and non-purchases is zero.\n",
    "\n",
    "> **Alternative Hypothesis ($H_1$):** The mean difference in wehther or not a product rating is present between purchases and non-purchases is *not* \n",
    "zero."
   ]
  },
  {
   "cell_type": "code",
   "execution_count": null,
   "metadata": {},
   "outputs": [],
   "source": [
    "# Obtain your pvalue.\n",
    "pvalue = stats.ttest_ind(purchase_df['product_rating'],no_purchase_df['product_rating']).pvalue\n",
    "hyp_test(pvalue)"
   ]
  },
  {
   "cell_type": "markdown",
   "metadata": {},
   "source": [
    "### Interpretation of the p-value\n",
    "\n",
    "Whether or not a product has a product review is statistically significant as to whether or not there will be a purchase."
   ]
  },
  {
   "cell_type": "markdown",
   "metadata": {},
   "source": [
    "---\n",
    "\n",
    "## Conclusion: Sales Drivers\n",
    "\n",
    "\n",
    "The company should strive to incorporate product reviews and product ratings as an effort to increase purchases. Thus, products which include product ratings and product reviews will statistically have greater sales.\n",
    "\n",
    "Based on the data provided; these two factors are statistically proven to contribute to purchases.\n",
    "\n",
    "The amount of time spent on a web page has been statistically proven not to contribute to a purchase."
   ]
  },
  {
   "cell_type": "markdown",
   "metadata": {},
   "source": [
    "# Part 2: A/B Testing Using the chi-square test\n",
    "\n",
    "The buy button on the e-commerce marketplace's product pages is red. However, they wanted to see if a yellow button will do better. An experiment (A/B/ test) was designed to test this!\n",
    "\n",
    "Here's how the A/B test was set up:\n",
    "\n",
    "* Control Group: Red Button\n",
    "* Experimental Group: Yellow Button\n",
    "\n",
    "The experiment was conducted with 1000 users. Each user was randomly assigned to a group (experimental or control).\n",
    "\n",
    "#### Chi-square Test\n",
    "\n",
    "A chi-square test tests the null hypothesis that the observed proportions are the same between the groups. In this case, There is only one proportion- the proportion of purchases. Thus, \n",
    "\n",
    "> **Null Hypothesis ($H_0$):** The observed proportion of purchases is the same between control and experimental groups.\n",
    "\n",
    "or:\n",
    "\n",
    "> **Alternative Hypothesis ($H_1$):** The observed proportion of purchases is not the same between control and experimental groups.\n",
    "\n",
    "**Conclusion:** Based on the data provided from the experiment; is the red or yellow button recommended?"
   ]
  },
  {
   "cell_type": "code",
   "execution_count": null,
   "metadata": {},
   "outputs": [],
   "source": [
    "# Create Pandas dataframe from csv file\n",
    "abdata_df = pd.read_csv('./_data/ab-data.csv')"
   ]
  },
  {
   "cell_type": "code",
   "execution_count": null,
   "metadata": {},
   "outputs": [],
   "source": [
    "# Display data info\n",
    "print(abdata_df.info())\n",
    "print('\\ndf shape:', abdata_df.shape)\n",
    "print('\\n', abdata_df.describe())\n",
    "abdata_df.head()"
   ]
  },
  {
   "cell_type": "code",
   "execution_count": null,
   "metadata": {},
   "outputs": [],
   "source": [
    "# Complete the crosstab to generate the contingency table.\n",
    "# It should take two arguments, each should be a column.\n",
    "contingency_table = pd.crosstab(abdata['group'], abdata['purchase'])\n",
    "contingency_table"
   ]
  },
  {
   "cell_type": "code",
   "execution_count": null,
   "metadata": {
    "collapsed": true
   },
   "outputs": [],
   "source": [
    "chistat, chipval, dof, exp_p = stats.chi2_contingency(contingency_table)"
   ]
  },
  {
   "cell_type": "code",
   "execution_count": null,
   "metadata": {},
   "outputs": [],
   "source": [
    "chipval"
   ]
  },
  {
   "cell_type": "markdown",
   "metadata": {},
   "source": [
    "## Conclusion of A-B Test\n",
    "\n",
    "-The p-value is less than 0.05. Thus, we should reject our null hypothesis.\n",
    "\n",
    "-The observed proportion of purchases is not the same between control and experimental groups.\n",
    "\n",
    "-The company should adopt the experimental yellow button"
   ]
  },
  {
   "cell_type": "code",
   "execution_count": null,
   "metadata": {
    "collapsed": true
   },
   "outputs": [],
   "source": []
  }
 ],
 "metadata": {
  "kernelspec": {
   "display_name": "Python 3",
   "language": "python",
   "name": "python3"
  },
  "language_info": {
   "codemirror_mode": {
    "name": "ipython",
    "version": 3
   },
   "file_extension": ".py",
   "mimetype": "text/x-python",
   "name": "python",
   "nbconvert_exporter": "python",
   "pygments_lexer": "ipython3",
   "version": "3.6.2"
  }
 },
 "nbformat": 4,
 "nbformat_minor": 2
}
